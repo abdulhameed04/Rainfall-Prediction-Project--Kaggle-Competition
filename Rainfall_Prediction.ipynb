{
  "nbformat": 4,
  "nbformat_minor": 0,
  "metadata": {
    "colab": {
      "provenance": [],
      "authorship_tag": "ABX9TyMe4b4WvAVrnWacDLFtvGRD",
      "include_colab_link": true
    },
    "kernelspec": {
      "name": "python3",
      "display_name": "Python 3"
    },
    "language_info": {
      "name": "python"
    }
  },
  "cells": [
    {
      "cell_type": "markdown",
      "metadata": {
        "id": "view-in-github",
        "colab_type": "text"
      },
      "source": [
        "<a href=\"https://colab.research.google.com/github/abdulhameed04/Rainfall-Prediction-Project--Kaggle-Competition/blob/main/Rainfall_Prediction.ipynb\" target=\"_parent\"><img src=\"https://colab.research.google.com/assets/colab-badge.svg\" alt=\"Open In Colab\"/></a>"
      ]
    },
    {
      "cell_type": "code",
      "source": [
        "# -----------------------------------------\n",
        "# Install (if needed) and import libraries\n",
        "# -----------------------------------------\n",
        "!pip install xgboost --quiet\n",
        "\n",
        "import pandas as pd\n",
        "import numpy as np\n",
        "from sklearn.model_selection import train_test_split\n",
        "from sklearn.metrics import classification_report, accuracy_score\n",
        "from xgboost import XGBClassifier\n",
        "\n",
        "# -----------------------------------------\n",
        "# Load CSV files\n",
        "# -----------------------------------------\n",
        "train = pd.read_csv('train.csv')\n",
        "test = pd.read_csv('test.csv')\n",
        "submission = pd.read_csv('sample_submission.csv')\n",
        "\n",
        "# -----------------------------------------\n",
        "# Inspect (optional)\n",
        "# -----------------------------------------\n",
        "print(train.head())\n",
        "print(test.head())\n",
        "print(train.info())\n",
        "\n",
        "# -----------------------------------------\n",
        "# Feature/target selection\n",
        "# -----------------------------------------\n",
        "# Remove columns not in test set or not useful for prediction\n",
        "X = train.drop(['id', 'rainfall'], axis=1)\n",
        "y = train['rainfall']\n",
        "\n",
        "# For test, drop only 'id'\n",
        "X_test = test.drop(['id'], axis=1)\n",
        "\n",
        "# Ensure columns match\n",
        "assert (X.columns == X_test.columns).all(), \"Train and test columns do not match!\"\n",
        "\n",
        "# -----------------------------------------\n",
        "# Handle missing values (if any)\n",
        "# -----------------------------------------\n",
        "# Simple approach: fill with median\n",
        "X = X.fillna(X.median())\n",
        "X_test = X_test.fillna(X_test.median())\n",
        "\n",
        "# -----------------------------------------\n",
        "# (Optional) Train/validation split to assess performance\n",
        "# -----------------------------------------\n",
        "X_train, X_val, y_train, y_val = train_test_split(X, y, test_size=0.15, random_state=42, stratify=y)\n",
        "\n",
        "# -----------------------------------------\n",
        "# Model training with XGBoost (handles imbalanced data well)\n",
        "# -----------------------------------------\n",
        "model = XGBClassifier(\n",
        "    random_state=42,\n",
        "    n_estimators=200,\n",
        "    max_depth=5,\n",
        "    learning_rate=0.05,\n",
        "    n_jobs=-1,\n",
        "    use_label_encoder=False,\n",
        "    eval_metric='logloss'\n",
        ")\n",
        "\n",
        "model.fit(X_train, y_train)\n",
        "\n",
        "# -----------------------------------------\n",
        "# (Optional) Validation\n",
        "# -----------------------------------------\n",
        "val_pred = model.predict(X_val)\n",
        "print(\"Validation Accuracy:\", accuracy_score(y_val, val_pred))\n",
        "print(classification_report(y_val, val_pred))\n",
        "\n",
        "# -----------------------------------------\n",
        "# Predict on the test set\n",
        "# -----------------------------------------\n",
        "test_pred = model.predict(X_test)\n",
        "\n",
        "# -----------------------------------------\n",
        "# Prepare submission\n",
        "# -----------------------------------------\n",
        "submission['rainfall'] = test_pred.astype(int)   # Ensure integer output if needed\n",
        "submission.to_csv('rainfall_submission.csv', index=False)\n",
        "print(\"Submission file 'rainfall_submission.csv' is ready!\")\n"
      ],
      "metadata": {
        "colab": {
          "base_uri": "https://localhost:8080/"
        },
        "id": "KBhxotxvdGEc",
        "outputId": "b4a0d889-0e50-430f-bde2-e3133af4bc33"
      },
      "execution_count": 1,
      "outputs": [
        {
          "output_type": "stream",
          "name": "stdout",
          "text": [
            "   id  day  pressure  maxtemp  temparature  mintemp  dewpoint  humidity  \\\n",
            "0   0    1    1017.4     21.2         20.6     19.9      19.4      87.0   \n",
            "1   1    2    1019.5     16.2         16.9     15.8      15.4      95.0   \n",
            "2   2    3    1024.1     19.4         16.1     14.6       9.3      75.0   \n",
            "3   3    4    1013.4     18.1         17.8     16.9      16.8      95.0   \n",
            "4   4    5    1021.8     21.3         18.4     15.2       9.6      52.0   \n",
            "\n",
            "   cloud  sunshine  winddirection  windspeed  rainfall  \n",
            "0   88.0       1.1           60.0       17.2         1  \n",
            "1   91.0       0.0           50.0       21.9         1  \n",
            "2   47.0       8.3           70.0       18.1         1  \n",
            "3   95.0       0.0           60.0       35.6         1  \n",
            "4   45.0       3.6           40.0       24.8         0  \n",
            "     id  day  pressure  maxtemp  temparature  mintemp  dewpoint  humidity  \\\n",
            "0  2190    1    1019.5     17.5         15.8     12.7      14.9      96.0   \n",
            "1  2191    2    1016.5     17.5         16.5     15.8      15.1      97.0   \n",
            "2  2192    3    1023.9     11.2         10.4      9.4       8.9      86.0   \n",
            "3  2193    4    1022.9     20.6         17.3     15.2       9.5      75.0   \n",
            "4  2194    5    1022.2     16.1         13.8      6.4       4.3      68.0   \n",
            "\n",
            "   cloud  sunshine  winddirection  windspeed  \n",
            "0   99.0       0.0           50.0       24.3  \n",
            "1   99.0       0.0           50.0       35.3  \n",
            "2   96.0       0.0           40.0       16.9  \n",
            "3   45.0       7.1           20.0       50.6  \n",
            "4   49.0       9.2           20.0       19.4  \n",
            "<class 'pandas.core.frame.DataFrame'>\n",
            "RangeIndex: 2190 entries, 0 to 2189\n",
            "Data columns (total 13 columns):\n",
            " #   Column         Non-Null Count  Dtype  \n",
            "---  ------         --------------  -----  \n",
            " 0   id             2190 non-null   int64  \n",
            " 1   day            2190 non-null   int64  \n",
            " 2   pressure       2190 non-null   float64\n",
            " 3   maxtemp        2190 non-null   float64\n",
            " 4   temparature    2190 non-null   float64\n",
            " 5   mintemp        2190 non-null   float64\n",
            " 6   dewpoint       2190 non-null   float64\n",
            " 7   humidity       2190 non-null   float64\n",
            " 8   cloud          2190 non-null   float64\n",
            " 9   sunshine       2190 non-null   float64\n",
            " 10  winddirection  2190 non-null   float64\n",
            " 11  windspeed      2190 non-null   float64\n",
            " 12  rainfall       2190 non-null   int64  \n",
            "dtypes: float64(10), int64(3)\n",
            "memory usage: 222.6 KB\n",
            "None\n"
          ]
        },
        {
          "output_type": "stream",
          "name": "stderr",
          "text": [
            "/usr/local/lib/python3.11/dist-packages/xgboost/training.py:183: UserWarning: [13:29:02] WARNING: /workspace/src/learner.cc:738: \n",
            "Parameters: { \"use_label_encoder\" } are not used.\n",
            "\n",
            "  bst.update(dtrain, iteration=i, fobj=obj)\n"
          ]
        },
        {
          "output_type": "stream",
          "name": "stdout",
          "text": [
            "Validation Accuracy: 0.8571428571428571\n",
            "              precision    recall  f1-score   support\n",
            "\n",
            "           0       0.74      0.64      0.69        81\n",
            "           1       0.89      0.93      0.91       248\n",
            "\n",
            "    accuracy                           0.86       329\n",
            "   macro avg       0.82      0.78      0.80       329\n",
            "weighted avg       0.85      0.86      0.85       329\n",
            "\n",
            "Submission file 'rainfall_submission.csv' is ready!\n"
          ]
        }
      ]
    },
    {
      "cell_type": "code",
      "source": [],
      "metadata": {
        "id": "_adkdmMhN_g5"
      },
      "execution_count": null,
      "outputs": []
    }
  ]
}